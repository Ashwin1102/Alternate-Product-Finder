{
  "cells": [
    {
      "cell_type": "markdown",
      "source": [
        "# Data Preprocessing"
      ],
      "metadata": {
        "id": "cFZFORlMHClw"
      }
    },
    {
      "cell_type": "markdown",
      "source": [
        "Extract the about product from tht html bdy"
      ],
      "metadata": {
        "id": "oQHCKb9b12M7"
      }
    },
    {
      "cell_type": "code",
      "source": [
        "def extractAboutProduct(htmlBody):\n",
        "  soup = BeautifulSoup(htmlBody, 'html.parser')\n",
        "  if soup != None:\n",
        "    # Extract the product description\n",
        "    aboutProduct = ''\n",
        "    if soup.find('span') != None:\n",
        "      aboutProduct = soup.find('span').text.strip()\n",
        "    elif soup.find('meta') != None:\n",
        "      aboutProduct = soup.find('meta').text.strip()\n",
        "\n",
        "    if soup.find('ul') != None:\n",
        "      # Extract the list of product features\n",
        "      for feature in soup.find('ul').find_all('li'):\n",
        "          aboutProduct += feature.text.strip()\n",
        "\n",
        "    return aboutProduct\n"
      ],
      "metadata": {
        "id": "4Iwteka011aY"
      },
      "execution_count": null,
      "outputs": []
    },
    {
      "cell_type": "markdown",
      "source": [
        "Preprocess Extracted About Data"
      ],
      "metadata": {
        "id": "oT_6lNkJ3UKz"
      }
    },
    {
      "cell_type": "code",
      "source": [
        "import nltk\n",
        "nltk.download('stopwords')\n",
        "nltk.download('punkt')\n",
        "from nltk.corpus import stopwords\n",
        "from nltk.tokenize import word_tokenize\n",
        "import re\n",
        "\n",
        "def preprocessText(text):\n",
        "    # Remove non-alphanumeric characters\n",
        "    text = re.sub(r'\\W+', ' ', text)\n",
        "    # Convert to lowercase\n",
        "    text = text.lower()\n",
        "    # Remove stop words\n",
        "    stop_words = set(stopwords.words('english'))\n",
        "    word_tokens = word_tokenize(text)\n",
        "    filtered_text = [word for word in word_tokens if word not in stop_words]\n",
        "    text = ' '.join(filtered_text)\n",
        "    return text"
      ],
      "metadata": {
        "colab": {
          "base_uri": "https://localhost:8080/"
        },
        "id": "W9fAF6_v3TaA",
        "outputId": "f4e6bd69-c1ec-47c6-dad1-4fdbddbfa03c"
      },
      "execution_count": null,
      "outputs": [
        {
          "output_type": "stream",
          "name": "stdout",
          "text": [
            "p c tote bag made sturdy denim hold weekly groceries lighter cargo ease printed flipped version brand initials internal pocket keep wallet keys phone within easy reach dark blue white denimtwo top handles designer embleminternal pocketthis bag capacity approximately 20 litres\n"
          ]
        },
        {
          "output_type": "stream",
          "name": "stderr",
          "text": [
            "[nltk_data] Downloading package stopwords to /root/nltk_data...\n",
            "[nltk_data]   Package stopwords is already up-to-date!\n",
            "[nltk_data] Downloading package punkt to /root/nltk_data...\n",
            "[nltk_data]   Package punkt is already up-to-date!\n"
          ]
        }
      ]
    },
    {
      "cell_type": "code",
      "source": [
        "import pandas as pd\n",
        "\n",
        "def jsonToDataFrame(storeLink):\n",
        "\n",
        "  # create an empty dataframe with column names\n",
        "  df = pd.DataFrame(columns=['ID', 'Title', 'About Product', 'Vendor', 'Product type', 'Product Link'])\n",
        "\n",
        "  products_dict = {}\n",
        "  page_number = 1\n",
        "  productNumber = 0\n",
        "\n",
        "  while True:\n",
        "      # Make an HTTP GET request to the product data JSON endpoint\n",
        "      response = requests.get(storeLink + '/collections/all/products.json?page=' + str(page_number))\n",
        "\n",
        "      # If there are no more products, break out of the loop\n",
        "      if len(response.json()['products']) == 0:\n",
        "          break\n",
        "\n",
        "      for product in response.json()['products']:\n",
        "        productToBeAdded = [product['id'], product['title'], preprocessText(extractAboutProduct(product['body_html'])) + ' '.join(product['tags']), product['vendor'], product['product_type'], storeLink+'products/' + product['handle']]\n",
        "        df.loc[productNumber] = productToBeAdded\n",
        "        productNumber += 1\n",
        "      \n",
        "      page_number += 1\n",
        "  return df\n",
        "df = jsonToDataFrame('https://www.boysnextdoor-apparel.co/')\n"
      ],
      "metadata": {
        "id": "mNgbc9AI4Fbo"
      },
      "execution_count": null,
      "outputs": []
    },
    {
      "cell_type": "code",
      "source": [
        "df"
      ],
      "metadata": {
        "colab": {
          "base_uri": "https://localhost:8080/",
          "height": 658
        },
        "id": "WGV2smGd8WWP",
        "outputId": "ec13b29d-ad44-4fd6-fde4-7df1c0e17050"
      },
      "execution_count": null,
      "outputs": [
        {
          "output_type": "execute_result",
          "data": {
            "text/plain": [
              "                ID                                       Title  \\\n",
              "0    5751418519702    A.P.C. Daniela Logo-Print Denim Tote Bag   \n",
              "1    7728812490978                and Wander Dyneema Stuffsack   \n",
              "2    7696930504930       and Wander Heather Waist Bag Charcoal   \n",
              "3    7696940531938           and Wander Heather Waist Bag Navy   \n",
              "4    7767737467106  Axel Arigato Marathon Sneaker White Silver   \n",
              "..             ...                                         ...   \n",
              "665  7728767860962           Wood Wood Low Profile Mondana Cap   \n",
              "666  7693151174882        WYM Heavy Weight Basic Big-Tee Beige   \n",
              "667  7693155107042         WYM Heavy Weight Basic Big-Tee Blue   \n",
              "668  7693148520674         WYM Heavy Weight Basic Big-Tee Grey   \n",
              "669  7693125714146        WYM Heavy Weight Basic Big-Tee White   \n",
              "\n",
              "                                         About Product        Vendor  \\\n",
              "0    p c tote bag made sturdy denim hold weekly gro...           APC   \n",
              "1    lightweight durable stuff sack wander produced...    and Wander   \n",
              "2    light sturdy waist bag japanese outdoor brand ...    and Wander   \n",
              "3    light sturdy waist bag japanese outdoor brand ...    and Wander   \n",
              "4    marathon sneakers frommesh uppersleather overl...  Axel Arigato   \n",
              "..                                                 ...           ...   \n",
              "665  inspired lifestyle atmosphere italian province...     Wood Wood   \n",
              "666  machine wash according instructions care label...           WYM   \n",
              "667  machine wash according instructions care label...           WYM   \n",
              "668  machine wash according instructions care label...           WYM   \n",
              "669  machine wash according instructions care label...           WYM   \n",
              "\n",
              "    Product type                                       Product Link  \n",
              "0            Bag  https://www.boysnextdoor-apparel.co/products/a...  \n",
              "1            Bag  https://www.boysnextdoor-apparel.co/products/a...  \n",
              "2            Bag  https://www.boysnextdoor-apparel.co/products/a...  \n",
              "3            Bag  https://www.boysnextdoor-apparel.co/products/a...  \n",
              "4          Shoes  https://www.boysnextdoor-apparel.co/products/a...  \n",
              "..           ...                                                ...  \n",
              "665          Cap  https://www.boysnextdoor-apparel.co/products/w...  \n",
              "666      T-Shirt  https://www.boysnextdoor-apparel.co/products/w...  \n",
              "667      T-Shirt  https://www.boysnextdoor-apparel.co/products/w...  \n",
              "668      T-Shirt  https://www.boysnextdoor-apparel.co/products/w...  \n",
              "669      T-Shirt  https://www.boysnextdoor-apparel.co/products/w...  \n",
              "\n",
              "[670 rows x 6 columns]"
            ],
            "text/html": [
              "\n",
              "  <div id=\"df-14ca15eb-2839-4e8d-aac3-f5e24cb00377\">\n",
              "    <div class=\"colab-df-container\">\n",
              "      <div>\n",
              "<style scoped>\n",
              "    .dataframe tbody tr th:only-of-type {\n",
              "        vertical-align: middle;\n",
              "    }\n",
              "\n",
              "    .dataframe tbody tr th {\n",
              "        vertical-align: top;\n",
              "    }\n",
              "\n",
              "    .dataframe thead th {\n",
              "        text-align: right;\n",
              "    }\n",
              "</style>\n",
              "<table border=\"1\" class=\"dataframe\">\n",
              "  <thead>\n",
              "    <tr style=\"text-align: right;\">\n",
              "      <th></th>\n",
              "      <th>ID</th>\n",
              "      <th>Title</th>\n",
              "      <th>About Product</th>\n",
              "      <th>Vendor</th>\n",
              "      <th>Product type</th>\n",
              "      <th>Product Link</th>\n",
              "    </tr>\n",
              "  </thead>\n",
              "  <tbody>\n",
              "    <tr>\n",
              "      <th>0</th>\n",
              "      <td>5751418519702</td>\n",
              "      <td>A.P.C. Daniela Logo-Print Denim Tote Bag</td>\n",
              "      <td>p c tote bag made sturdy denim hold weekly gro...</td>\n",
              "      <td>APC</td>\n",
              "      <td>Bag</td>\n",
              "      <td>https://www.boysnextdoor-apparel.co/products/a...</td>\n",
              "    </tr>\n",
              "    <tr>\n",
              "      <th>1</th>\n",
              "      <td>7728812490978</td>\n",
              "      <td>and Wander Dyneema Stuffsack</td>\n",
              "      <td>lightweight durable stuff sack wander produced...</td>\n",
              "      <td>and Wander</td>\n",
              "      <td>Bag</td>\n",
              "      <td>https://www.boysnextdoor-apparel.co/products/a...</td>\n",
              "    </tr>\n",
              "    <tr>\n",
              "      <th>2</th>\n",
              "      <td>7696930504930</td>\n",
              "      <td>and Wander Heather Waist Bag Charcoal</td>\n",
              "      <td>light sturdy waist bag japanese outdoor brand ...</td>\n",
              "      <td>and Wander</td>\n",
              "      <td>Bag</td>\n",
              "      <td>https://www.boysnextdoor-apparel.co/products/a...</td>\n",
              "    </tr>\n",
              "    <tr>\n",
              "      <th>3</th>\n",
              "      <td>7696940531938</td>\n",
              "      <td>and Wander Heather Waist Bag Navy</td>\n",
              "      <td>light sturdy waist bag japanese outdoor brand ...</td>\n",
              "      <td>and Wander</td>\n",
              "      <td>Bag</td>\n",
              "      <td>https://www.boysnextdoor-apparel.co/products/a...</td>\n",
              "    </tr>\n",
              "    <tr>\n",
              "      <th>4</th>\n",
              "      <td>7767737467106</td>\n",
              "      <td>Axel Arigato Marathon Sneaker White Silver</td>\n",
              "      <td>marathon sneakers frommesh uppersleather overl...</td>\n",
              "      <td>Axel Arigato</td>\n",
              "      <td>Shoes</td>\n",
              "      <td>https://www.boysnextdoor-apparel.co/products/a...</td>\n",
              "    </tr>\n",
              "    <tr>\n",
              "      <th>...</th>\n",
              "      <td>...</td>\n",
              "      <td>...</td>\n",
              "      <td>...</td>\n",
              "      <td>...</td>\n",
              "      <td>...</td>\n",
              "      <td>...</td>\n",
              "    </tr>\n",
              "    <tr>\n",
              "      <th>665</th>\n",
              "      <td>7728767860962</td>\n",
              "      <td>Wood Wood Low Profile Mondana Cap</td>\n",
              "      <td>inspired lifestyle atmosphere italian province...</td>\n",
              "      <td>Wood Wood</td>\n",
              "      <td>Cap</td>\n",
              "      <td>https://www.boysnextdoor-apparel.co/products/w...</td>\n",
              "    </tr>\n",
              "    <tr>\n",
              "      <th>666</th>\n",
              "      <td>7693151174882</td>\n",
              "      <td>WYM Heavy Weight Basic Big-Tee Beige</td>\n",
              "      <td>machine wash according instructions care label...</td>\n",
              "      <td>WYM</td>\n",
              "      <td>T-Shirt</td>\n",
              "      <td>https://www.boysnextdoor-apparel.co/products/w...</td>\n",
              "    </tr>\n",
              "    <tr>\n",
              "      <th>667</th>\n",
              "      <td>7693155107042</td>\n",
              "      <td>WYM Heavy Weight Basic Big-Tee Blue</td>\n",
              "      <td>machine wash according instructions care label...</td>\n",
              "      <td>WYM</td>\n",
              "      <td>T-Shirt</td>\n",
              "      <td>https://www.boysnextdoor-apparel.co/products/w...</td>\n",
              "    </tr>\n",
              "    <tr>\n",
              "      <th>668</th>\n",
              "      <td>7693148520674</td>\n",
              "      <td>WYM Heavy Weight Basic Big-Tee Grey</td>\n",
              "      <td>machine wash according instructions care label...</td>\n",
              "      <td>WYM</td>\n",
              "      <td>T-Shirt</td>\n",
              "      <td>https://www.boysnextdoor-apparel.co/products/w...</td>\n",
              "    </tr>\n",
              "    <tr>\n",
              "      <th>669</th>\n",
              "      <td>7693125714146</td>\n",
              "      <td>WYM Heavy Weight Basic Big-Tee White</td>\n",
              "      <td>machine wash according instructions care label...</td>\n",
              "      <td>WYM</td>\n",
              "      <td>T-Shirt</td>\n",
              "      <td>https://www.boysnextdoor-apparel.co/products/w...</td>\n",
              "    </tr>\n",
              "  </tbody>\n",
              "</table>\n",
              "<p>670 rows × 6 columns</p>\n",
              "</div>\n",
              "      <button class=\"colab-df-convert\" onclick=\"convertToInteractive('df-14ca15eb-2839-4e8d-aac3-f5e24cb00377')\"\n",
              "              title=\"Convert this dataframe to an interactive table.\"\n",
              "              style=\"display:none;\">\n",
              "        \n",
              "  <svg xmlns=\"http://www.w3.org/2000/svg\" height=\"24px\"viewBox=\"0 0 24 24\"\n",
              "       width=\"24px\">\n",
              "    <path d=\"M0 0h24v24H0V0z\" fill=\"none\"/>\n",
              "    <path d=\"M18.56 5.44l.94 2.06.94-2.06 2.06-.94-2.06-.94-.94-2.06-.94 2.06-2.06.94zm-11 1L8.5 8.5l.94-2.06 2.06-.94-2.06-.94L8.5 2.5l-.94 2.06-2.06.94zm10 10l.94 2.06.94-2.06 2.06-.94-2.06-.94-.94-2.06-.94 2.06-2.06.94z\"/><path d=\"M17.41 7.96l-1.37-1.37c-.4-.4-.92-.59-1.43-.59-.52 0-1.04.2-1.43.59L10.3 9.45l-7.72 7.72c-.78.78-.78 2.05 0 2.83L4 21.41c.39.39.9.59 1.41.59.51 0 1.02-.2 1.41-.59l7.78-7.78 2.81-2.81c.8-.78.8-2.07 0-2.86zM5.41 20L4 18.59l7.72-7.72 1.47 1.35L5.41 20z\"/>\n",
              "  </svg>\n",
              "      </button>\n",
              "      \n",
              "  <style>\n",
              "    .colab-df-container {\n",
              "      display:flex;\n",
              "      flex-wrap:wrap;\n",
              "      gap: 12px;\n",
              "    }\n",
              "\n",
              "    .colab-df-convert {\n",
              "      background-color: #E8F0FE;\n",
              "      border: none;\n",
              "      border-radius: 50%;\n",
              "      cursor: pointer;\n",
              "      display: none;\n",
              "      fill: #1967D2;\n",
              "      height: 32px;\n",
              "      padding: 0 0 0 0;\n",
              "      width: 32px;\n",
              "    }\n",
              "\n",
              "    .colab-df-convert:hover {\n",
              "      background-color: #E2EBFA;\n",
              "      box-shadow: 0px 1px 2px rgba(60, 64, 67, 0.3), 0px 1px 3px 1px rgba(60, 64, 67, 0.15);\n",
              "      fill: #174EA6;\n",
              "    }\n",
              "\n",
              "    [theme=dark] .colab-df-convert {\n",
              "      background-color: #3B4455;\n",
              "      fill: #D2E3FC;\n",
              "    }\n",
              "\n",
              "    [theme=dark] .colab-df-convert:hover {\n",
              "      background-color: #434B5C;\n",
              "      box-shadow: 0px 1px 3px 1px rgba(0, 0, 0, 0.15);\n",
              "      filter: drop-shadow(0px 1px 2px rgba(0, 0, 0, 0.3));\n",
              "      fill: #FFFFFF;\n",
              "    }\n",
              "  </style>\n",
              "\n",
              "      <script>\n",
              "        const buttonEl =\n",
              "          document.querySelector('#df-14ca15eb-2839-4e8d-aac3-f5e24cb00377 button.colab-df-convert');\n",
              "        buttonEl.style.display =\n",
              "          google.colab.kernel.accessAllowed ? 'block' : 'none';\n",
              "\n",
              "        async function convertToInteractive(key) {\n",
              "          const element = document.querySelector('#df-14ca15eb-2839-4e8d-aac3-f5e24cb00377');\n",
              "          const dataTable =\n",
              "            await google.colab.kernel.invokeFunction('convertToInteractive',\n",
              "                                                     [key], {});\n",
              "          if (!dataTable) return;\n",
              "\n",
              "          const docLinkHtml = 'Like what you see? Visit the ' +\n",
              "            '<a target=\"_blank\" href=https://colab.research.google.com/notebooks/data_table.ipynb>data table notebook</a>'\n",
              "            + ' to learn more about interactive tables.';\n",
              "          element.innerHTML = '';\n",
              "          dataTable['output_type'] = 'display_data';\n",
              "          await google.colab.output.renderOutput(dataTable, element);\n",
              "          const docLink = document.createElement('div');\n",
              "          docLink.innerHTML = docLinkHtml;\n",
              "          element.appendChild(docLink);\n",
              "        }\n",
              "      </script>\n",
              "    </div>\n",
              "  </div>\n",
              "  "
            ]
          },
          "metadata": {},
          "execution_count": 175
        }
      ]
    },
    {
      "cell_type": "markdown",
      "source": [
        "# Model building and training"
      ],
      "metadata": {
        "id": "dTQg592THJ_a"
      }
    },
    {
      "cell_type": "markdown",
      "source": [
        "Now that data is preprocessd I can build the model to classify the products. I have used unsupervised learning algorithm which is Kmeans."
      ],
      "metadata": {
        "id": "V8jkAO3QHQ35"
      }
    },
    {
      "cell_type": "code",
      "source": [
        "import pandas as pd\n",
        "from sklearn.feature_extraction.text import TfidfVectorizer\n",
        "from sklearn.cluster import KMeans\n",
        "\n",
        "def classifierModel(df):\n",
        "  # Create a vectorizer\n",
        "  vectorizer = TfidfVectorizer(stop_words='english')\n",
        "\n",
        "  # Vectorize the 'About Product' column  \n",
        "  X = vectorizer.fit_transform(df['About Product'])\n",
        "\n",
        "  # Set the number of clusters to 3 \n",
        "  k = 10\n",
        "\n",
        "  # Train the KMeans model\n",
        "  kmeans = KMeans(n_clusters=k)\n",
        "  kmeans.fit(X)\n",
        "\n",
        "  # Get the labels for each data point\n",
        "  labels = kmeans.predict(X)\n",
        "\n",
        "  # Add the labels to the DataFrame\n",
        "  df['Cluster'] = labels\n",
        "\n",
        "  # Group the rows by cluster label and extract the 'About Product' column into a list for each cluster\n",
        "  clusters = df.groupby('Cluster')['Product Link'].apply(list).tolist()\n",
        "\n",
        "  # Print the list of clusters\n",
        "  return clusters"
      ],
      "metadata": {
        "id": "qmhzQAFK_cIR"
      },
      "execution_count": null,
      "outputs": []
    },
    {
      "cell_type": "code",
      "source": [
        "import matplotlib.pyplot as plt\n",
        "\n",
        "# Count the number of data points in each cluster\n",
        "cluster_counts = df['Cluster'].value_counts()\n",
        "\n",
        "# Create a bar chart\n",
        "fig, ax = plt.subplots()\n",
        "ax.bar(cluster_counts.index, cluster_counts.values)\n",
        "ax.set_xticks(cluster_counts.index)\n",
        "ax.set_xlabel('Cluster')\n",
        "ax.set_ylabel('Number of Data Points')\n",
        "plt.show()\n"
      ],
      "metadata": {
        "colab": {
          "base_uri": "https://localhost:8080/",
          "height": 449
        },
        "id": "K20vZIOHE-tR",
        "outputId": "b133fc0d-ebde-40ac-8db2-763ff09fcd0d"
      },
      "execution_count": null,
      "outputs": [
        {
          "output_type": "display_data",
          "data": {
            "text/plain": [
              "<Figure size 640x480 with 1 Axes>"
            ],
            "image/png": "[encoded data removed]"
          },
          "metadata": {}
        }
      ]
    },
    {
      "cell_type": "markdown",
      "source": [
        "# Final Function to find alternative groups"
      ],
      "metadata": {
        "id": "hB6FN0IUKXyv"
      }
    },
    {
      "cell_type": "code",
      "source": [
        "def FindAlternateGroups(storeLink):\n",
        "  df = jsonToDataFrame(storeLink)\n",
        "  arrayOfLinks = classifierModel(df)\n",
        "\n",
        "  jsonDict = {}\n",
        "  cluster_count = 1\n",
        "  for array in arrayOfLinks:\n",
        "    jsonDict['product alternates ' + str(cluster_count)] = array\n",
        "    cluster_count += 1\n",
        "  return jsonDict"
      ],
      "metadata": {
        "id": "jIKDehv4KfY9"
      },
      "execution_count": null,
      "outputs": []
    },
    {
      "cell_type": "markdown",
      "source": [
        "https://www.boysnextdoor-apparel.co/"
      ],
      "metadata": {
        "id": "BmtwxxulQFow"
      }
    },
    {
      "cell_type": "code",
      "source": [
        "FindAlternateGroups(\"https://www.boysnextdoor-apparel.co/\")"
      ],
      "metadata": {
        "id": "nr-wPM4QOdkS"
      },
      "execution_count": null,
      "outputs": []
    },
    {
      "cell_type": "markdown",
      "source": [
        "https://www.woolsboutiqueuomo.com/"
      ],
      "metadata": {
        "id": "Cquw9aAXQWCA"
      }
    },
    {
      "cell_type": "code",
      "source": [
        "FindAlternateGroups(\"https://www.woolsboutiqueuomo.com/\")"
      ],
      "metadata": {
        "id": "Vchwlaj8QQEM"
      },
      "execution_count": null,
      "outputs": []
    },
    {
      "cell_type": "markdown",
      "source": [
        "https://sartale2022.myshopify.com/"
      ],
      "metadata": {
        "id": "YUH__XqPQhZ4"
      }
    },
    {
      "cell_type": "code",
      "source": [
        "FindAlternateGroups(\"https://sartale2022.myshopify.com/\")"
      ],
      "metadata": {
        "id": "5ui3rrqzQf2R"
      },
      "execution_count": null,
      "outputs": []
    },
    {
      "cell_type": "markdown",
      "source": [
        "https://glamaroustitijewels.com/"
      ],
      "metadata": {
        "id": "XieWE9McRJMm"
      }
    },
    {
      "cell_type": "code",
      "source": [
        "FindAlternateGroups(\"https://glamaroustitijewels.com/\")"
      ],
      "metadata": {
        "id": "le9a4huURHIK"
      },
      "execution_count": null,
      "outputs": []
    }
  ],
  "metadata": {
    "colab": {
      "provenance": []
    },
    "kernelspec": {
      "display_name": "Python 3",
      "name": "python3"
    },
    "language_info": {
      "name": "python"
    }
  },
  "nbformat": 4,
  "nbformat_minor": 0
}